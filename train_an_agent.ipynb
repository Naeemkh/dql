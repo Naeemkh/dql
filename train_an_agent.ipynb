{
 "cells": [
  {
   "cell_type": "code",
   "execution_count": null,
   "metadata": {},
   "outputs": [],
   "source": [
    "from game_controller import GameController\n",
    "from domain import Domain\n",
    "from util import create_random_domain"
   ]
  },
  {
   "cell_type": "code",
   "execution_count": null,
   "metadata": {},
   "outputs": [],
   "source": [
    "domain_params = {'domain_shape':(10,10), \"num_wall\":4, \"num_gold\":2,\n",
    "                 'num_storage':2, \"use_available_domain\":True, \n",
    "                 'domain_type':\"2D\", \"new_agent_loc\":True,\n",
    "                 'domain_number':10061}\n",
    "\n",
    "ql_params = {'gamma':0.99, 'epsilon_max':1, \"epsilon_min\":0.01,\n",
    "             'epsilon_dec':0.0001, 'n_game': 200, 'stop_game_after': 500}\n",
    "\n",
    "dqn_params = {'mem_size':1000000, 'algorithm':\"DDQN\",'batch_size':32,\n",
    "              'learning_rate':0.0001 , 'load_pretrained_agent':True,\n",
    "              'start_from': 'domain_10_10_init_3',\n",
    "              'agent_number': 100234, 'replace_network_every':1000}\n",
    "\n",
    "\n",
    "output_folder = \"train_folder_1\"\n",
    "\n",
    "gc1 = GameController(domain_params, ql_params, dqn_params, output_folder=output_folder)\n",
    "gc1.train()\n",
    "gc1.domain.plot_domain(True)\n",
    "gc1.generate_animation_of_trained_model(random_agent_loc=False)"
   ]
  }
 ],
 "metadata": {
  "kernelspec": {
   "display_name": "pt36",
   "language": "python",
   "name": "pt36"
  },
  "language_info": {
   "codemirror_mode": {
    "name": "ipython",
    "version": 3
   },
   "file_extension": ".py",
   "mimetype": "text/x-python",
   "name": "python",
   "nbconvert_exporter": "python",
   "pygments_lexer": "ipython3",
   "version": "3.6.10"
  }
 },
 "nbformat": 4,
 "nbformat_minor": 4
}
